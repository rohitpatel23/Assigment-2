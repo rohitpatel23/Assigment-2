{
 "cells": [
  {
   "cell_type": "code",
   "execution_count": 1,
   "id": "6e93bd0c-a2f2-41fe-bd9f-deb40b919bac",
   "metadata": {},
   "outputs": [],
   "source": [
    "#Q1. who developed python programming language ?"
   ]
  },
  {
   "cell_type": "markdown",
   "id": "d971b14a-4df7-4760-9ce7-96651325b6e4",
   "metadata": {},
   "source": [
    "Guido van Rossum "
   ]
  },
  {
   "cell_type": "code",
   "execution_count": 24,
   "id": "3f2895ff-8980-4f23-806c-ad34e449f754",
   "metadata": {},
   "outputs": [],
   "source": [
    "#Q2. which typing of programming does python support ?"
   ]
  },
  {
   "cell_type": "raw",
   "id": "c37dcdc3-f4e6-4b2a-9a73-b9766a15ebea",
   "metadata": {},
   "source": [
    "python is an interpreted programming language , which support object - oriented , stuctured and functional programming"
   ]
  },
  {
   "cell_type": "code",
   "execution_count": 23,
   "id": "6874b280-57fd-4510-a5ba-289736aa63c2",
   "metadata": {},
   "outputs": [],
   "source": [
    "#Q3. Is python case sensitive when dealinng with identifiers ?"
   ]
  },
  {
   "cell_type": "raw",
   "id": "62af5512-1872-44a0-8da9-08c08f8e0eb5",
   "metadata": {},
   "source": [
    "yes "
   ]
  },
  {
   "cell_type": "code",
   "execution_count": 22,
   "id": "766912d2-af95-4b97-92f7-f8f48d64053f",
   "metadata": {},
   "outputs": [],
   "source": [
    "#Q4.what is the correct extension of the python file ?"
   ]
  },
  {
   "cell_type": "raw",
   "id": "5f254a2e-5b4c-4836-97a6-d478f62e9b70",
   "metadata": {},
   "source": [
    ".py"
   ]
  },
  {
   "cell_type": "code",
   "execution_count": 21,
   "id": "6669da0c-96c4-4aac-9662-90d9e35a9557",
   "metadata": {},
   "outputs": [],
   "source": [
    "#Q5. Is python code compiled or interpreted?"
   ]
  },
  {
   "cell_type": "raw",
   "id": "cc5cc89d-1dbb-4c66-9340-9836ecca3840",
   "metadata": {},
   "source": [
    "Python is both compiled or interpreted "
   ]
  },
  {
   "cell_type": "code",
   "execution_count": 8,
   "id": "03bf4cdc-c6f9-44ab-b397-1eec435ab7da",
   "metadata": {},
   "outputs": [],
   "source": [
    "#Q6. Name a few blocks of code used to define in python language "
   ]
  },
  {
   "cell_type": "markdown",
   "id": "5cf4f311-e487-489f-aa30-0ab34c0ac900",
   "metadata": {},
   "source": [
    "indentation"
   ]
  },
  {
   "cell_type": "code",
   "execution_count": 10,
   "id": "af0ebb7c-5565-44c4-abe2-bc8d7c997151",
   "metadata": {},
   "outputs": [],
   "source": [
    "#Q7. State a charcter used to give single - line comments in python ?"
   ]
  },
  {
   "cell_type": "code",
   "execution_count": 11,
   "id": "fdd1408f-d19d-4364-8431-92c349c49215",
   "metadata": {},
   "outputs": [],
   "source": [
    "#"
   ]
  },
  {
   "cell_type": "code",
   "execution_count": 12,
   "id": "0eaea449-4901-45b4-9356-be209981ea45",
   "metadata": {},
   "outputs": [],
   "source": [
    "#Q8. Mention function which can help us to find the version of python that we are currently work on ?"
   ]
  },
  {
   "cell_type": "markdown",
   "id": "1770026c-55e1-4d0a-9465-90a946e15df2",
   "metadata": {},
   "source": [
    "sys.version"
   ]
  },
  {
   "cell_type": "code",
   "execution_count": 14,
   "id": "a53e7d35-a8ab-433d-a32f-d196c9cb3852",
   "metadata": {},
   "outputs": [],
   "source": [
    "#Q9. Python supports the creation of anonymous function at runtime , using a construct called  ......."
   ]
  },
  {
   "cell_type": "markdown",
   "id": "042f00ce-0c6b-4476-a443-a1f2a1dc4db9",
   "metadata": {},
   "source": [
    "lambda"
   ]
  },
  {
   "cell_type": "code",
   "execution_count": 16,
   "id": "0fb8ddfa-302b-4b75-8274-0dc3e7dda8fe",
   "metadata": {},
   "outputs": [],
   "source": [
    "#Q10. what does plp stand for python ?"
   ]
  },
  {
   "cell_type": "raw",
   "id": "97a22501-6bb1-46b3-bb76-d8fafbd9a835",
   "metadata": {},
   "source": [
    "preferred installer program"
   ]
  },
  {
   "cell_type": "code",
   "execution_count": 18,
   "id": "2ca11aba-e257-48ae-83b2-ec9aed3de55f",
   "metadata": {},
   "outputs": [],
   "source": [
    "#Q11. Mention a few build - in functions in python ?"
   ]
  },
  {
   "cell_type": "raw",
   "id": "17c45e64-2b9d-4987-bf0d-6863daf26e95",
   "metadata": {},
   "source": [
    "print()"
   ]
  },
  {
   "cell_type": "code",
   "execution_count": 20,
   "id": "79b04678-4f25-42d9-b444-c2dc93bbbbe1",
   "metadata": {},
   "outputs": [],
   "source": [
    "#Q12. what is the maximum possible lenght of an identifier in python ?"
   ]
  },
  {
   "cell_type": "raw",
   "id": "a24cbc25-abd9-475f-8f13-afb94dd91e24",
   "metadata": {},
   "source": [
    "identifiers can be of any lenght"
   ]
  },
  {
   "cell_type": "code",
   "execution_count": 25,
   "id": "80e50a2d-9470-4111-9cbe-727a168a7837",
   "metadata": {},
   "outputs": [],
   "source": [
    "#Q13. what are the benefits of using python ?"
   ]
  },
  {
   "cell_type": "raw",
   "id": "214bfcfb-b63a-4a3d-adaa-de550bd35e97",
   "metadata": {},
   "source": [
    "there are a plethora of benefits to developing softwere in the python programming language , we will highlight the major benefits below , with a brief explanation of the advantage of choosing python for each one ."
   ]
  },
  {
   "cell_type": "code",
   "execution_count": 26,
   "id": "06cd55d4-a51f-4384-b4c2-e8d803ff22ce",
   "metadata": {},
   "outputs": [],
   "source": [
    "#Q14. How is memory managed in python ?"
   ]
  },
  {
   "cell_type": "raw",
   "id": "47d08d82-5c77-4119-a003-127532ef88ef",
   "metadata": {},
   "source": [
    "Memory managment is python involve a private heap containing all python objects and data structures . The managment of this private heap is ensured internally by the python memory manager "
   ]
  },
  {
   "cell_type": "code",
   "execution_count": 27,
   "id": "2131cb6d-8fd7-48eb-a980-1d9d59651a06",
   "metadata": {},
   "outputs": [],
   "source": [
    "#Q15. How to install python on window and set path variable ?"
   ]
  },
  {
   "cell_type": "raw",
   "id": "189b7c57-f2e8-4446-80a0-b8e4f90d6997",
   "metadata": {},
   "source": [
    "step to install python on window :\n",
    "    1.Right clicking this PC and going to properties .\n",
    "    2.Clicking on the advanced system settings in the menu on the left .\n",
    "    3. Clicking on the environment variables buttom on the bottom right .\n",
    "    4. In the system variable section , selecting the path variable and clicking on edit . The next screen will\n",
    "    show all directories that are currently a part of the path variable .\n",
    "    5. Clicking on new and entering python install directory .\n",
    "    "
   ]
  },
  {
   "cell_type": "code",
   "execution_count": 29,
   "id": "1c260e00-4125-4059-abdc-e9e26c8f742d",
   "metadata": {},
   "outputs": [],
   "source": [
    "#Q16. Is indention required in python"
   ]
  },
  {
   "cell_type": "raw",
   "id": "88df01dd-ae36-41c7-a323-d0be73acf244",
   "metadata": {},
   "source": [
    "yes , indention required in python "
   ]
  }
 ],
 "metadata": {
  "kernelspec": {
   "display_name": "Python 3 (ipykernel)",
   "language": "python",
   "name": "python3"
  },
  "language_info": {
   "codemirror_mode": {
    "name": "ipython",
    "version": 3
   },
   "file_extension": ".py",
   "mimetype": "text/x-python",
   "name": "python",
   "nbconvert_exporter": "python",
   "pygments_lexer": "ipython3",
   "version": "3.10.8"
  }
 },
 "nbformat": 4,
 "nbformat_minor": 5
}
